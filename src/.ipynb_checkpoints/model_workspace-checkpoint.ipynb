{
 "cells": [
  {
   "cell_type": "code",
   "execution_count": 62,
   "metadata": {},
   "outputs": [
    {
     "name": "stderr",
     "output_type": "stream",
     "text": [
      "/home/john/anaconda3/lib/python3.6/site-packages/tradingWithPython/lib/cboe.py:11: FutureWarning: The pandas.core.datetools module is deprecated and will be removed in a future version. Please use the pandas.tseries module instead.\n",
      "  from pandas.core import datetools\n"
     ]
    }
   ],
   "source": [
    "# Standard Python libs\n",
    "import pandas as pd\n",
    "import numpy as np\n",
    "from datetime import date\n",
    "from time import mktime\n",
    "import time\n",
    "# Machine Learning Libs\n",
    "from sklearn.preprocessing import StandardScaler\n",
    "from sklearn.externals import joblib\n",
    "from keras.models import Sequential\n",
    "from keras.layers.core import Dense, Activation, Dropout\n",
    "from keras.layers.recurrent import LSTM\n",
    "from keras.optimizers import RMSprop, Adam, Nadam\n",
    "\n",
    "#Trading libraries\n",
    "import talib.abstract as ta\n",
    "import poloniex\n",
    "from tradingWithPython import backtest as bt"
   ]
  },
  {
   "cell_type": "code",
   "execution_count": 2,
   "metadata": {},
   "outputs": [],
   "source": [
    "symbol = 'BTC_ETH'\n",
    "start = mktime(date(2015, 7, 31).timetuple())\n",
    "end = time.time()"
   ]
  },
  {
   "cell_type": "code",
   "execution_count": 3,
   "metadata": {},
   "outputs": [],
   "source": [
    "polo = poloniex.Poloniex()"
   ]
  },
  {
   "cell_type": "code",
   "execution_count": 4,
   "metadata": {},
   "outputs": [],
   "source": [
    "# joblib.dump(df_daily, '../data/BTCETHdf.pkl')"
   ]
  },
  {
   "cell_type": "code",
   "execution_count": 5,
   "metadata": {},
   "outputs": [],
   "source": [
    "# BTC_ETH_daily = polo.returnChartData(currencyPair=symbol, start =start, end = end, period = 14400)\n",
    "# df_daily = pd.DataFrame.from_records(BTC_ETH_daily, index = 'date')\n",
    "# for i in df_daily.columns:\n",
    "#     df_daily[i] = df_daily[i].apply(lambda x: float(x))\n",
    "# df_daily.index = pd.to_datetime(df_daily.index*1e9)\n",
    "# quantity = 3000\n",
    "# X_train = df_daily.iloc[-quantity:-round(quantity*0.2)]\n",
    "# X_test  = df_daily.iloc[-quantity:,]\n",
    "# df_daily.info()"
   ]
  },
  {
   "cell_type": "code",
   "execution_count": 6,
   "metadata": {
    "collapsed": true
   },
   "outputs": [],
   "source": [
    "df_daily = joblib.load('../data/BTCETHdf.pkl')\n",
    "quantity = 3000\n",
    "X_train = df_daily.iloc[-quantity:-round(quantity*0.2)]\n",
    "X_test  = df_daily.iloc[-quantity:,]"
   ]
  },
  {
   "cell_type": "code",
   "execution_count": 49,
   "metadata": {},
   "outputs": [],
   "source": [
    "# Initializing state values\n",
    "def init_state(X, test = False):\n",
    "    close = X['close'].values\n",
    "    diff = np.diff(close)\n",
    "    diff = np.insert(diff, 0,0)\n",
    "    sma15 = ta.SMA(X, timeperiod = 15)\n",
    "    sma60 = ta.SMA(X, timeperiod = 60)\n",
    "    rsi = ta.RSI(X, timeperiod = 14)\n",
    "    atr = ta.ATR(X, timeperiod = 14)\n",
    "    \n",
    "    data = np.nan_to_num(np.vstack((close, diff, sma15, close-sma15, sma15-sma60, rsi, atr)))\n",
    "    if not test:\n",
    "        scaler = StandardScaler()\n",
    "        scaled_data = scaler.fit_transform(data)\n",
    "        data = np.expand_dims(scaled_data, axis = 1)\n",
    "        joblib.dump(scaler, '../data/scaler.pkl')\n",
    "    elif test:\n",
    "        scaler = joblib.load('../data/scaler.pkl')\n",
    "        scaled_data = scaler.transform(data)\n",
    "        data = np.expand_dims(scaled_data, axis = 1)\n",
    "    data = data.T\n",
    "    state = data[0:1,0:1,:]\n",
    "    return state, data, close\n"
   ]
  },
  {
   "cell_type": "code",
   "execution_count": 54,
   "metadata": {},
   "outputs": [],
   "source": [
    "\n",
    "tsteps = 1\n",
    "batch_size = 1\n",
    "num_features = 7\n",
    "model = Sequential()\n",
    "model.add(LSTM(64,\n",
    "               input_shape=(1, num_features),\n",
    "               return_sequences=True,\n",
    "               stateful=False))\n",
    "model.add(Dropout(0.33))\n",
    "\n",
    "model.add(LSTM(64,\n",
    "               input_shape=(1, num_features),\n",
    "               return_sequences=False,\n",
    "               stateful=False))\n",
    "model.add(Dropout(0.33))\n",
    "\n",
    "model.add(Dense(4, kernel_initializer='lecun_uniform'))\n",
    "model.add(Activation('relu')) #linear output so we can have range of real-valued outputs\n",
    "\n",
    "rms = RMSprop()\n",
    "adam = Adam()\n",
    "model.compile(loss='mse', optimizer=adam)"
   ]
  },
  {
   "cell_type": "code",
   "execution_count": 55,
   "metadata": {},
   "outputs": [
    {
     "data": {
      "text/plain": [
       "array([[ 0.00041895,  0.00604719,  0.        ,  0.00189867]], dtype=float32)"
      ]
     },
     "execution_count": 55,
     "metadata": {},
     "output_type": "execute_result"
    }
   ],
   "source": [
    "model.predict(init_state(X_train)[0], batch_size=batch_size)"
   ]
  },
  {
   "cell_type": "code",
   "execution_count": 56,
   "metadata": {
    "collapsed": true
   },
   "outputs": [],
   "source": [
    "def act(state, data, action, trades, step):\n",
    "    if step + 2 == data.shape[0]:\n",
    "        state = data[step:step+1, 0:1, :]\n",
    "        term = True\n",
    "        trades.iloc[timestep+1] = 0\n",
    "        \n",
    "        return state, step, trades, term\n",
    "    state = data[step:step+1, 0:1, :]\n",
    "    # Take trade action {0:Hold, 1:Buy, 2:Sell}\n",
    "    if action == 1:\n",
    "        trades.iloc[step+1] == 1\n",
    "    elif action == 2:\n",
    "        trades.iloc[step+1] == -1\n",
    "    else:\n",
    "        trades.iloc[step+1 ==0]\n",
    "    term = False\n",
    "    step += 1\n",
    "    return state, step, trades, term"
   ]
  },
  {
   "cell_type": "code",
   "execution_count": 60,
   "metadata": {},
   "outputs": [],
   "source": [
    "def bestow(new_state, step, action, data, trades, term, epoch = 0):\n",
    "    bestowal = 0\n",
    "    trades = trades.fillna(False)\n",
    "    if term == False:\n",
    "        b_test = bt.Backtest(pd.Series(data=[i for i in data[step-2:step]], index = trades[step-2:step].index.values),trades[step-2:step], signalType='shares')\n",
    "        bestowal = ((b_test.data['price'].iloc[-1] -b_test.data['price'].iloc[-2]) * b_test.data['shares'].iloc[-1])\n",
    "    else:\n",
    "        b_test = bt.Backtest(pd.Series(data=[i for i in data], index = trades.index.values), trades, signalType='shares')\n",
    "        reward = b_test.pnl.iloc[-1]\n",
    "    return bestowal"
   ]
  },
  {
   "cell_type": "code",
   "execution_count": 61,
   "metadata": {
    "collapsed": true
   },
   "outputs": [],
   "source": [
    "def eval_Q(eval_data, eval_model, epoch = 0):\n",
    "    trades = pd.Series(index=np.arange(len(data)))\n",
    "    state, data, prices = init_state(eval_data)\n",
    "    step = 1\n",
    "    term = False\n",
    "    go = True\n",
    "    while go:\n",
    "        q_values = eval_model.predict(state, batch_size = 1)\n",
    "        action = np.argmax(qval)\n",
    "        state_prime, step, trades, term = act(state, data, action, trades, step)\n",
    "        bestowal = bestow(state_prime,step,action,prices, trades, term, epoch = epoch)\n",
    "        state = state_prime\n",
    "        if not term:\n",
    "            go == False\n",
    "    return bestowal"
   ]
  },
  {
   "cell_type": "code",
   "execution_count": null,
   "metadata": {
    "collapsed": true
   },
   "outputs": [],
   "source": []
  }
 ],
 "metadata": {
  "kernelspec": {
   "display_name": "Python 3",
   "language": "python",
   "name": "python3"
  },
  "language_info": {
   "codemirror_mode": {
    "name": "ipython",
    "version": 3
   },
   "file_extension": ".py",
   "mimetype": "text/x-python",
   "name": "python",
   "nbconvert_exporter": "python",
   "pygments_lexer": "ipython3",
   "version": "3.6.1"
  }
 },
 "nbformat": 4,
 "nbformat_minor": 2
}
